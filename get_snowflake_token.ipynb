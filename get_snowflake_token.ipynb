{
 "cells": [
  {
   "cell_type": "code",
   "execution_count": 1,
   "metadata": {},
   "outputs": [
    {
     "name": "stdout",
     "output_type": "stream",
     "text": [
      "Received token: None\n",
      "Auth Token: None\n"
     ]
    },
    {
     "name": "stderr",
     "output_type": "stream",
     "text": [
      "127.0.0.1 - - [08/Apr/2024 11:15:10] \"GET / HTTP/1.1\" 200 -\n"
     ]
    }
   ],
   "source": [
    "import webbrowser\n",
    "from http.server import HTTPServer, BaseHTTPRequestHandler\n",
    "import threading\n",
    "from urllib.parse import urlparse, parse_qs\n",
    "\n",
    "\n",
    "class SimpleHTTPRequestHandler(BaseHTTPRequestHandler):\n",
    "    def do_GET(self):\n",
    "        # Parse the URL\n",
    "        parsed_path = urlparse(self.path)\n",
    "        # Extract query parameters as a dictionary\n",
    "        query_params = parse_qs(parsed_path.query)\n",
    "\n",
    "        # Assuming the token is passed as a query parameter named 'token'\n",
    "        global auth_token\n",
    "        auth_token = query_params.get(\"token\", [None])[0]\n",
    "\n",
    "        # Send a response to the browser\n",
    "        self.send_response(200)\n",
    "        self.end_headers()\n",
    "        message = \"Authentication successful. You can close this tab.\"\n",
    "        self.wfile.write(message.encode(\"utf-8\"))\n",
    "\n",
    "        # Print the token or handle it as needed\n",
    "        print(\"Received token:\", auth_token)\n",
    "\n",
    "        # Signal the server to stop after handling the request\n",
    "        global server_should_stop\n",
    "        server_should_stop = True\n",
    "\n",
    "\n",
    "# Specify the port to listen on. Choose a port that's likely to be free.\n",
    "port = 8000\n",
    "\n",
    "# Create the server object\n",
    "httpd = HTTPServer((\"localhost\", port), SimpleHTTPRequestHandler)\n",
    "\n",
    "\n",
    "# Function to start the server and listen until a stop signal is received\n",
    "def run_server():\n",
    "    global server_should_stop\n",
    "    server_should_stop = False\n",
    "    while not server_should_stop:\n",
    "        httpd.handle_request()\n",
    "    httpd.server_close()\n",
    "\n",
    "\n",
    "# Start the server in a new thread because handle_request() is blocking\n",
    "server_thread = threading.Thread(target=run_server)\n",
    "server_thread.start()\n",
    "\n",
    "# Direct the user to the Snowflake login page using the provided account URL\n",
    "# Replace YOUR_CLIENT_ID with your actual client ID\n",
    "# Ensure the redirect_uri matches one of the URIs you've registered in your Snowflake OAuth integration\n",
    "login_url = \"https://bu20658.ap-southeast-2.snowflakecomputing.com/?&client_id=KEaAv5tJAYc1%2BBqySu5DRtAL1DQ%2Frw%3D%3D&scope=refresh_token&redirect_uri=http://localhost:8000\"\n",
    "webbrowser.open(login_url)\n",
    "\n",
    "\n",
    "# The script will pause here and wait for the server thread to finish\n",
    "server_thread.join()\n",
    "\n",
    "# At this point, `auth_token` should contain the OAuth token if the authentication was successful\n",
    "print(\"Auth Token:\", auth_token)"
   ]
  }
 ],
 "metadata": {
  "kernelspec": {
   "display_name": ".snowloader_dev_env",
   "language": "python",
   "name": "python3"
  },
  "language_info": {
   "codemirror_mode": {
    "name": "ipython",
    "version": 3
   },
   "file_extension": ".py",
   "mimetype": "text/x-python",
   "name": "python",
   "nbconvert_exporter": "python",
   "pygments_lexer": "ipython3",
   "version": "3.11.9"
  }
 },
 "nbformat": 4,
 "nbformat_minor": 2
}
